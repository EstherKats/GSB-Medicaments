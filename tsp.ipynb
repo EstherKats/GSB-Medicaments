{
  "cells": [
    {
      "cell_type": "markdown",
      "source": [
        "#TSP Heuristiques\n",
        "\n",
        "**Projet réalisé par Myriam Bloch, Berouria Meguira, Tsiporah Adler et Esther Kats**"
      ],
      "metadata": {
        "id": "wlAIFIPWRUxU"
      },
      "id": "wlAIFIPWRUxU"
    },
    {
      "cell_type": "markdown",
      "source": [
        "Dans ce notebook Jupyter, nous commencerons par définir l'ensemble des fonctions nécessaires, avant de passer à une seconde partie dédiée à l'exécution principale du code, où ces fonctions seront appelées.\n",
        "\n",
        "\n"
      ],
      "metadata": {
        "id": "-1CeEBCaIGnY"
      },
      "id": "-1CeEBCaIGnY"
    },
    {
      "cell_type": "markdown",
      "source": [
        "### Définition des fonctions"
      ],
      "metadata": {
        "id": "8fp7fXovQ_EF"
      },
      "id": "8fp7fXovQ_EF"
    },
    {
      "cell_type": "code",
      "source": [
        "import random\n",
        "import matplotlib.pyplot as plt\n",
        "import time\n",
        "import math\n",
        "import heapq"
      ],
      "metadata": {
        "id": "UBkuOHhDI0Wp"
      },
      "id": "UBkuOHhDI0Wp",
      "execution_count": null,
      "outputs": []
    },
    {
      "cell_type": "markdown",
      "source": [
        "```\n",
        "def generer_villes()\n",
        "```\n",
        "Génère aléatoirement n villes dans un rectangle de dimensions données.\n",
        "\n",
        "  Paramètres :\n",
        "  - ```n (int)``` : nombre de villes à générer.\n",
        "  - ```largeur (float) ``` : largeur maximale du plan (par défaut 100).\n",
        "  - ```hauteur (float)``` : hauteur maximale du plan (par défaut 100).\n",
        "\n",
        "  Retour :\n",
        "  - ```List[Tuple[float, float]]``` : liste des coordonnées ```(x, y)``` des villes générées."
      ],
      "metadata": {
        "id": "BdxC1zGDI2Qm"
      },
      "id": "BdxC1zGDI2Qm"
    },
    {
      "cell_type": "code",
      "source": [
        "def generer_villes(n, largeur=100, hauteur=100):\n",
        "\n",
        "    villes = []\n",
        "    for i in range(n):\n",
        "        x = random.uniform(0, largeur)\n",
        "        y = random.uniform(0, hauteur)\n",
        "        villes.append((x, y))\n",
        "    return villes"
      ],
      "metadata": {
        "id": "l7Cm4VZ4J6YK"
      },
      "id": "l7Cm4VZ4J6YK",
      "execution_count": null,
      "outputs": []
    },
    {
      "cell_type": "markdown",
      "source": [
        "```def afficher_villes()```\n",
        "\n",
        "Affiche les villes sur un plan 2D avec leurs indices.\n",
        "\n",
        "Paramètres :\n",
        "- ```villes (List[Tuple[float, float]])``` : liste des coordonnées des villes.\n",
        "    \n",
        "Retour :\n",
        "- Aucun (affichage graphique via matplotlib)."
      ],
      "metadata": {
        "id": "YLog789FKCY8"
      },
      "id": "YLog789FKCY8"
    },
    {
      "cell_type": "code",
      "source": [
        "def afficher_villes(villes):\n",
        "\n",
        "    xs, ys = zip(*villes)\n",
        "    plt.figure(figsize=(6,6))\n",
        "    plt.scatter(xs, ys, color='blue')\n",
        "    for i, (x, y) in enumerate(villes):\n",
        "        plt.text(x + 1, y + 1, str(i), fontsize=9)\n",
        "    plt.title(\"Carte des villes\")\n",
        "    plt.xlabel(\"x\")\n",
        "    plt.ylabel(\"y\")\n",
        "    plt.grid(True)\n",
        "    plt.show()"
      ],
      "metadata": {
        "id": "j4R3kgNlKkx9"
      },
      "id": "j4R3kgNlKkx9",
      "execution_count": null,
      "outputs": []
    },
    {
      "cell_type": "markdown",
      "source": [
        "```def calculer_matrice_distances():```\n",
        "\n",
        "Calcule la matrice des distances euclidiennes entre chaque paire de villes.\n",
        "\n",
        "Paramètres :\n",
        "- ```villes (List[Tuple[float, float]])``` : liste des coordonnées des villes.\n",
        "\n",
        "Retour :\n",
        "- ```List[List[float]]``` : matrice des distances entre les villes."
      ],
      "metadata": {
        "id": "zQcEYcxrKpi9"
      },
      "id": "zQcEYcxrKpi9"
    },
    {
      "cell_type": "code",
      "source": [
        "def calculer_matrice_distances(villes):\n",
        "\n",
        "    n = len(villes)\n",
        "    distances = [[0.0] * n for _ in range(n)]\n",
        "    for i in range(n):\n",
        "        for j in range(n):\n",
        "            if i != j:\n",
        "                xi, yi = villes[i]\n",
        "                xj, yj = villes[j]\n",
        "                distances[i][j] = math.dist((xi, yi), (xj, yj))\n",
        "    return distances"
      ],
      "metadata": {
        "id": "VlEt1BZmLBMA"
      },
      "id": "VlEt1BZmLBMA",
      "execution_count": null,
      "outputs": []
    },
    {
      "cell_type": "markdown",
      "source": [
        "```def nearest_neighbor()```\n",
        "\n",
        "Résout le problème du TSP à l’aide de l’algorithme du plus proche voisin.\n",
        "\n",
        "Paramètres :\n",
        "- ```villes (List[Tuple[float, float]])``` : liste des coordonnées des villes.\n",
        "- ```distances (List[List[float]])``` : matrice des distances entre les villes.\n",
        "\n",
        "Retour :\n",
        "- ```chemin (List[int])``` : ordre des villes visitées (terminé par un retour au départ).\n",
        "- ```total_distance (float)``` : distance totale du circuit.\n",
        "- ```execution_time (float)``` : durée d’exécution de l’algorithme en secondes."
      ],
      "metadata": {
        "id": "jAkffng_LIKs"
      },
      "id": "jAkffng_LIKs"
    },
    {
      "cell_type": "code",
      "source": [
        "def nearest_neighbor(villes, distances):\n",
        "\n",
        "    start_time = time.time()\n",
        "\n",
        "    n = len(villes)\n",
        "    visited = [False] * n\n",
        "    chemin = [0]  # Commence à la ville 0\n",
        "    visited[0] = True\n",
        "    total_distance = 0\n",
        "\n",
        "    current = 0\n",
        "    for _ in range(n - 1):\n",
        "        next_city = None\n",
        "        min_dist = float('inf')\n",
        "        for j in range(n):\n",
        "            if not visited[j] and distances[current][j] < min_dist:\n",
        "                next_city = j\n",
        "                min_dist = distances[current][j]\n",
        "        chemin.append(next_city)\n",
        "        total_distance += min_dist\n",
        "        visited[next_city] = True\n",
        "        current = next_city\n",
        "\n",
        "    # Retour à la ville de départ\n",
        "    total_distance += distances[current][0]\n",
        "    chemin.append(0)\n",
        "\n",
        "    execution_time = time.time() - start_time\n",
        "    return chemin, total_distance, execution_time"
      ],
      "metadata": {
        "id": "yHxYoPmpLu03"
      },
      "id": "yHxYoPmpLu03",
      "execution_count": null,
      "outputs": []
    },
    {
      "cell_type": "markdown",
      "source": [
        "```def insertion_heuristique()```\n",
        "\n",
        "Résout le problème du TSP en utilisant l’heuristique d’insertion.\n",
        "\n",
        "Paramètres :\n",
        "- ```villes (List[Tuple[float, float]])``` : liste des coordonnées des villes.\n",
        "- ```distances (List[List[float]])``` : matrice des distances entre les villes.\n",
        "\n",
        "Retour :\n",
        "- ```tour (List[int])``` : ordre des villes visitées, commençant et terminant à la même ville.\n",
        "- ```total_distance (float)``` : distance totale du circuit.\n",
        "- ```execution_time (float)``` : durée d’exécution de l’algorithme en secondes."
      ],
      "metadata": {
        "id": "ags3egIXLw-S"
      },
      "id": "ags3egIXLw-S"
    },
    {
      "cell_type": "code",
      "source": [
        "def insertion_heuristique(villes, distances):\n",
        "\n",
        "    start_time = time.time()\n",
        "    n = len(villes)\n",
        "\n",
        "    non_visitees = list(range(n))\n",
        "    tour = [0, 1, 0]  # On commence avec les villes 0 → 1 → 0\n",
        "    non_visitees.remove(0)\n",
        "    non_visitees.remove(1)\n",
        "\n",
        "    while non_visitees:\n",
        "        meilleur_cout = float('inf')\n",
        "        meilleure_ville = None\n",
        "        meilleure_position = None\n",
        "\n",
        "        for ville in non_visitees:\n",
        "            for i in range(1, len(tour)):\n",
        "                a = tour[i - 1]\n",
        "                b = tour[i]\n",
        "                cout = distances[a][ville] + distances[ville][b] - distances[a][b]\n",
        "                if cout < meilleur_cout:\n",
        "                    meilleur_cout = cout\n",
        "                    meilleure_ville = ville\n",
        "                    meilleure_position = i\n",
        "\n",
        "        tour.insert(meilleure_position, meilleure_ville)\n",
        "        non_visitees.remove(meilleure_ville)\n",
        "\n",
        "    # Calcul de la distance totale\n",
        "    total_distance = 0\n",
        "    for i in range(len(tour) - 1):\n",
        "        total_distance += distances[tour[i]][tour[i + 1]]\n",
        "\n",
        "    execution_time = time.time() - start_time\n",
        "    return tour, total_distance, execution_time"
      ],
      "metadata": {
        "id": "KoP_Gmx1Msw6"
      },
      "id": "KoP_Gmx1Msw6",
      "execution_count": null,
      "outputs": []
    },
    {
      "cell_type": "markdown",
      "source": [
        "```def comparer_heuristiques()```\n",
        "\n",
        "Compare les deux heuristiques (Nearest Neighbor et Insertion) sur un même ensemble de villes.\n",
        "\n",
        "Affiche pour chaque méthode :\n",
        "- la distance totale du circuit\n",
        "- le temps d'exécution\n",
        "- le ratio par rapport à une borne inférieure estimée (via MST)\n",
        "\n",
        "Paramètres :\n",
        "- ```villes (List[Tuple[float, float]])``` : liste des coordonnées des villes.\n",
        "- ```distances (List[List[float]])``` : matrice des distances.\n",
        "\n",
        "Retour :\n",
        "- Aucun (affiche les résultats et les tracés)."
      ],
      "metadata": {
        "id": "qFkwJwZGMuZz"
      },
      "id": "qFkwJwZGMuZz"
    },
    {
      "cell_type": "code",
      "source": [
        "def comparer_heuristiques(villes, distances):\n",
        "\n",
        "     # Exécution des heuristiques\n",
        "    chemin_nn, dist_nn, t_nn = nearest_neighbor(villes, distances)\n",
        "    chemin_ins, dist_ins, t_ins = insertion_heuristique(villes, distances)\n",
        "\n",
        "    # Calcul de la borne inférieure avec l'arbre couvrant minimal (MST)\n",
        "    borne = mst_borne_inferieure(distances)\n",
        "\n",
        "    # Calcul des ratios distance / borne inférieure\n",
        "    qualite_nn = dist_nn / borne\n",
        "    qualite_ins = dist_ins / borne\n",
        "\n",
        "    # Affichage des résultats\n",
        "    print(\"🔹 Nearest Neighbor\")\n",
        "    print(f\"  Distance totale : {dist_nn:.2f}\")\n",
        "    print(f\"  Temps d'exécution : {t_nn:.4f} s\\n\")\n",
        "    print(f\"  ➤ Ratio distance / borne : {qualite_nn:.2f}\\n\")\n",
        "\n",
        "    print(\"🔹 Insertion Heuristique\")\n",
        "    print(f\"  Distance totale : {dist_ins:.2f}\")\n",
        "    print(f\"  Temps d'exécution : {t_ins:.4f} s\\n\")\n",
        "    print(f\"  ➤ Ratio distance / borne : {qualite_ins:.2f}\\n\")\n",
        "\n",
        "    print(f\" Borne inférieure estimée (MST) : {borne:.2f}\")\n",
        "\n",
        "    # Visualisation du chemin\n",
        "    afficher_chemin(villes, chemin_nn, titre=\"Nearest Neighbor\", couleur='blue', distance=dist_nn)\n",
        "    afficher_chemin(villes, chemin_ins, titre=\"Heuristique d'Insertion\", couleur='green', distance=dist_ins)"
      ],
      "metadata": {
        "id": "UaRP28bdNZrF"
      },
      "id": "UaRP28bdNZrF",
      "execution_count": null,
      "outputs": []
    },
    {
      "cell_type": "markdown",
      "source": [
        "```def afficher_chemin()```\n",
        "\n",
        "Affiche un chemin TSP sur la carte des villes.\n",
        "\n",
        "Paramètres :\n",
        "- ```villes (List[Tuple[float, float]])``` : coordonnées des villes.\n",
        "- ```chemin (List[int])``` : ordre des villes visitées.\n",
        "- ```titre (str)``` : titre du graphique (facultatif).\n",
        "- ```couleur (str)``` : couleur de la ligne du chemin.\n",
        "- ```distance (float)``` : distance totale affichée dans le titre (facultatif).\n",
        "\n",
        "Retour :\n",
        "- Aucun (affichage graphique via matplotlib)."
      ],
      "metadata": {
        "id": "IQZehJyONjT-"
      },
      "id": "IQZehJyONjT-"
    },
    {
      "cell_type": "code",
      "source": [
        "def afficher_chemin(villes, chemin, titre=\"Circuit\", couleur='blue', distance=None):\n",
        "\n",
        "    xs = [villes[i][0] for i in chemin]\n",
        "    ys = [villes[i][1] for i in chemin]\n",
        "\n",
        "    plt.figure(figsize=(8, 6))\n",
        "    plt.scatter(*zip(*villes), c='black', zorder=2)\n",
        "    plt.plot(xs, ys, c=couleur, zorder=1, linewidth=2, label=\"Chemin\")\n",
        "\n",
        "    for i, (x, y) in enumerate(villes):\n",
        "        plt.text(x + 1, y + 1, str(i), fontsize=9)\n",
        "\n",
        "    titre_complet = f\"{titre} – Distance : {distance:.2f}\" if distance else titre\n",
        "    plt.title(titre_complet)\n",
        "    plt.xlabel(\"x\")\n",
        "    plt.ylabel(\"y\")\n",
        "    plt.grid(True)\n",
        "    plt.legend()\n",
        "    plt.axis(\"equal\")\n",
        "    plt.show()"
      ],
      "metadata": {
        "id": "NJemSIUlOClD"
      },
      "id": "NJemSIUlOClD",
      "execution_count": null,
      "outputs": []
    },
    {
      "cell_type": "markdown",
      "source": [
        "```def mst_borne_inferieure():```\n",
        "\n",
        "Calcule une borne inférieure pour le TSP à l'aide de l'arbre couvrant minimal (MST) via l’algorithme de Prim.\n",
        "\n",
        "Paramètres :\n",
        "- ```distances (List[List[float]])``` : matrice des distances entre les villes.\n",
        "\n",
        "Retour :\n",
        "- ```total (float)``` : poids total de l’arbre couvrant minimal (borne inférieure pour le TSP).\n"
      ],
      "metadata": {
        "id": "Ao-UiEm4ONPZ"
      },
      "id": "Ao-UiEm4ONPZ"
    },
    {
      "cell_type": "code",
      "source": [
        "def mst_borne_inferieure(distances):\n",
        "\n",
        "    n = len(distances)\n",
        "    visited = [False] * n\n",
        "    min_edge = [float('inf')] * n\n",
        "    min_edge[0] = 0\n",
        "    heap = [(0, 0)]\n",
        "    total = 0\n",
        "\n",
        "    while heap:\n",
        "        cout, u = heapq.heappop(heap)\n",
        "        if visited[u]:\n",
        "            continue\n",
        "        visited[u] = True\n",
        "        total += cout\n",
        "\n",
        "        for v in range(n):\n",
        "            if not visited[v] and distances[u][v] < min_edge[v]:\n",
        "                min_edge[v] = distances[u][v]\n",
        "                heapq.heappush(heap, (distances[u][v], v))\n",
        "\n",
        "    return total"
      ],
      "metadata": {
        "id": "lLWAfzNkIIST"
      },
      "id": "lLWAfzNkIIST",
      "execution_count": null,
      "outputs": []
    },
    {
      "cell_type": "markdown",
      "source": [
        "### Execution principale"
      ],
      "metadata": {
        "id": "Z2yo-BezPFMl"
      },
      "id": "Z2yo-BezPFMl"
    },
    {
      "cell_type": "code",
      "source": [
        "if __name__ == \"__main__\":\n",
        "    villes = generer_villes(15)\n",
        "    afficher_villes(villes)\n",
        "    distances = calculer_matrice_distances(villes)\n",
        "    comparer_heuristiques(villes, distances)"
      ],
      "metadata": {
        "id": "cAmlziKYO_aD"
      },
      "id": "cAmlziKYO_aD",
      "execution_count": null,
      "outputs": []
    },
    {
      "cell_type": "code",
      "execution_count": null,
      "id": "5b0c3fa8",
      "metadata": {
        "id": "5b0c3fa8",
        "outputId": "ceae9b25-9624-40b1-a4fc-4bd3d0085739"
      },
      "outputs": [
        {
          "data": {
            "image/png": "[encoded data removed]",
            "text/plain": [
              "<Figure size 600x600 with 1 Axes>"
            ]
          },
          "metadata": {},
          "output_type": "display_data"
        },
        {
          "name": "stdout",
          "output_type": "stream",
          "text": [
            "[0.0, 17.167929071081627, 42.272755842826996, 60.10078339706163, 68.7408200225182, 12.50857483537801, 25.536708814961315, 16.81732382167452, 69.6514976424884, 67.24951490188417]\n",
            "[17.167929071081627, 0.0, 59.264962444566144, 76.19608113890678, 84.40934027100856, 27.46927931753986, 42.70265629608414, 25.237825724834067, 76.31968332727965, 78.35887512877923]\n",
            "[42.272755842826996, 59.264962444566144, 0.0, 33.56034795468513, 30.978885673845316, 32.8748997768599, 17.85213851998266, 46.525131947156204, 77.10518430351682, 62.339095105412305]\n",
            "[60.10078339706163, 76.19608113890678, 33.56034795468513, 0.0, 54.95017658038964, 56.6379298905959, 37.6360379388387, 54.0060448052328, 55.993329636775954, 35.77599793220604]\n",
            "[68.7408200225182, 84.40934027100856, 30.978885673845316, 54.95017658038964, 0.0, 56.98916142842199, 47.7312273190027, 76.39734939533322, 106.3374545473699, 89.17671952480346]\n",
            "[12.50857483537801, 27.46927931753986, 32.8748997768599, 56.6379298905959, 56.98916142842199, 0.0, 19.139589016365775, 26.551289177273404, 76.42870188867434, 70.52875927232625]\n",
            "[25.536708814961315, 42.70265629608414, 17.85213851998266, 37.6360379388387, 47.7312273190027, 19.139589016365775, 0.0, 28.806948236646246, 66.53720874227503, 56.14228416442507]\n",
            "[16.81732382167452, 25.237825724834067, 46.525131947156204, 54.0060448052328, 76.39734939533322, 26.551289177273404, 28.806948236646246, 0.0, 53.209860292346185, 53.178583369423734]\n",
            "[69.6514976424884, 76.31968332727965, 77.10518430351682, 55.993329636775954, 106.3374545473699, 76.42870188867434, 66.53720874227503, 53.209860292346185, 0.0, 22.096014732498503]\n",
            "[67.24951490188417, 78.35887512877923, 62.339095105412305, 35.77599793220604, 89.17671952480346, 70.52875927232625, 56.14228416442507, 53.178583369423734, 22.096014732498503, 0.0]\n"
          ]
        }
      ],
      "source": [
        "# Import des fonctions utiles\n",
        "from tsp_utils import generer_villes, afficher_villes, calculer_matrice_distances\n",
        "\n",
        "# Génération de 10 villes aléatoires\n",
        "villes = generer_villes(10)\n",
        "\n",
        "# Affichage des villes sur un plan\n",
        "afficher_villes(villes)\n",
        "\n",
        "# Calcul de la matrice des distances euclidiennes\n",
        "distances = calculer_matrice_distances(villes)\n",
        "\n",
        "# Affichage de la matrice des distances\n",
        "for row in distances:\n",
        "    print(row)\n"
      ]
    },
    {
      "cell_type": "code",
      "execution_count": null,
      "id": "d0b40079",
      "metadata": {
        "id": "d0b40079",
        "outputId": "f99a1d52-8ab7-45cb-dc52-c327d703e7f9"
      },
      "outputs": [
        {
          "name": "stdout",
          "output_type": "stream",
          "text": [
            "\n",
            "--- Test avec 10 villes ---\n",
            "Chemin trouvé : [0, 7, 8, 1, 5, 6, 4, 9, 3, 2, 0]\n",
            "Distance totale : 287.14\n",
            "Temps d'exécution : 0.0 secondes\n",
            "\n",
            "--- Test avec 20 villes ---\n",
            "Chemin trouvé : [0, 14, 9, 17, 7, 12, 5, 15, 19, 1, 8, 18, 3, 6, 16, 2, 10, 11, 13, 4, 0]\n",
            "Distance totale : 337.53\n",
            "Temps d'exécution : 0.0 secondes\n",
            "\n",
            "--- Test avec 50 villes ---\n",
            "Chemin trouvé : [0, 24, 10, 7, 48, 49, 40, 31, 39, 29, 2, 33, 34, 32, 19, 44, 43, 18, 27, 5, 1, 45, 25, 13, 14, 37, 8, 3, 42, 47, 36, 41, 35, 26, 28, 15, 30, 22, 16, 38, 23, 4, 20, 46, 21, 12, 11, 9, 6, 17, 0]\n",
            "Distance totale : 715.59\n",
            "Temps d'exécution : 0.0 secondes\n",
            "\n",
            "--- Test avec 100 villes ---\n",
            "Chemin trouvé : [0, 91, 23, 72, 4, 11, 74, 37, 82, 62, 66, 64, 18, 71, 68, 30, 8, 47, 96, 14, 57, 28, 25, 63, 55, 50, 85, 92, 41, 20, 39, 3, 52, 24, 93, 38, 6, 75, 81, 98, 34, 43, 12, 53, 94, 80, 70, 15, 48, 86, 49, 42, 51, 73, 32, 26, 19, 83, 59, 84, 87, 99, 44, 36, 13, 1, 95, 97, 7, 77, 65, 21, 40, 89, 31, 35, 27, 22, 2, 29, 33, 54, 5, 78, 60, 9, 76, 45, 10, 79, 61, 46, 90, 16, 58, 67, 69, 88, 56, 17, 0]\n",
            "Distance totale : 997.7\n",
            "Temps d'exécution : 0.0 secondes\n"
          ]
        }
      ],
      "source": [
        "from tsp_utils import generer_villes, calculer_matrice_distances, nearest_neighbor\n",
        "\n",
        "for n in [10, 20, 50, 100]:\n",
        "    print(f\"\\n--- Test avec {n} villes ---\")\n",
        "    villes = generer_villes(n)\n",
        "    distances = calculer_matrice_distances(villes)\n",
        "    chemin, total, temps = nearest_neighbor(villes, distances)\n",
        "\n",
        "    print(\"Chemin trouvé :\", chemin)\n",
        "    print(\"Distance totale :\", round(total, 2))\n",
        "    print(\"Temps d'exécution :\", round(temps, 4), \"secondes\")\n"
      ]
    }
  ],
  "metadata": {
    "kernelspec": {
      "display_name": "Python 3",
      "language": "python",
      "name": "python3"
    },
    "language_info": {
      "codemirror_mode": {
        "name": "ipython",
        "version": 3
      },
      "file_extension": ".py",
      "mimetype": "text/x-python",
      "name": "python",
      "nbconvert_exporter": "python",
      "pygments_lexer": "ipython3",
      "version": "3.11.0"
    },
    "colab": {
      "provenance": []
    }
  },
  "nbformat": 4,
  "nbformat_minor": 5
}